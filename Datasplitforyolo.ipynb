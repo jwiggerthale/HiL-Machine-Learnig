{
  "cells": [
    {
      "cell_type": "markdown",
      "metadata": {
        "id": "view-in-github",
        "colab_type": "text"
      },
      "source": [
        "<a href=\"https://colab.research.google.com/github/jwiggerthale/HiL-Machine-Learnig/blob/main/Datasplitforyolo.ipynb\" target=\"_parent\"><img src=\"https://colab.research.google.com/assets/colab-badge.svg\" alt=\"Open In Colab\"/></a>"
      ]
    },
    {
      "cell_type": "code",
      "execution_count": null,
      "metadata": {
        "id": "UFEBnq3f9w_N"
      },
      "outputs": [],
      "source": []
    },
    {
      "cell_type": "code",
      "execution_count": null,
      "metadata": {
        "id": "W_G9ci_F-C5o"
      },
      "outputs": [],
      "source": [
        "import kagglehub\n",
        "from glob import glob\n",
        "import os\n",
        "import yaml"
      ]
    },
    {
      "cell_type": "code",
      "execution_count": null,
      "metadata": {
        "colab": {
          "base_uri": "https://localhost:8080/"
        },
        "id": "Ldyu3d_V-C8q",
        "outputId": "d83ebded-cb30-4509-fbcb-6c0dcbfa1cef",
        "collapsed": true
      },
      "outputs": [
        {
          "output_type": "stream",
          "name": "stdout",
          "text": [
            "Downloading from https://www.kaggle.com/api/v1/datasets/download/zhangyunsheng/defects-class-and-location?dataset_version_number=1...\n"
          ]
        },
        {
          "output_type": "stream",
          "name": "stderr",
          "text": [
            "100%|██████████| 923M/923M [00:31<00:00, 30.6MB/s]"
          ]
        },
        {
          "output_type": "stream",
          "name": "stdout",
          "text": [
            "Extracting files...\n"
          ]
        },
        {
          "output_type": "stream",
          "name": "stderr",
          "text": [
            "\n"
          ]
        },
        {
          "output_type": "execute_result",
          "data": {
            "text/plain": [
              "(['/root/.cache/kagglehub/datasets/zhangyunsheng/defects-class-and-location/versions/1/label/label/img_03_425613500_00001.xml',\n",
              "  '/root/.cache/kagglehub/datasets/zhangyunsheng/defects-class-and-location/versions/1/label/label/img_01_425005700_00379.xml',\n",
              "  '/root/.cache/kagglehub/datasets/zhangyunsheng/defects-class-and-location/versions/1/label/label/img_03_424799200_00260.xml',\n",
              "  '/root/.cache/kagglehub/datasets/zhangyunsheng/defects-class-and-location/versions/1/label/label/img_08_4406743300_00432.xml',\n",
              "  '/root/.cache/kagglehub/datasets/zhangyunsheng/defects-class-and-location/versions/1/label/label/img_02_425507200_01504.xml'],\n",
              " ['/root/.cache/kagglehub/datasets/zhangyunsheng/defects-class-and-location/versions/1/images/images/waist folding/img_08_425501100_00051.jpg',\n",
              "  '/root/.cache/kagglehub/datasets/zhangyunsheng/defects-class-and-location/versions/1/images/images/waist folding/img_06_3436814000_00009.jpg',\n",
              "  '/root/.cache/kagglehub/datasets/zhangyunsheng/defects-class-and-location/versions/1/images/images/waist folding/img_06_3436639700_00760.jpg',\n",
              "  '/root/.cache/kagglehub/datasets/zhangyunsheng/defects-class-and-location/versions/1/images/images/waist folding/img_03_4404612700_00049.jpg',\n",
              "  '/root/.cache/kagglehub/datasets/zhangyunsheng/defects-class-and-location/versions/1/images/images/waist folding/img_07_4405376800_00042.jpg'])"
            ]
          },
          "metadata": {},
          "execution_count": 2
        }
      ],
      "source": [
        "dataset_path = kagglehub.dataset_download(\"zhangyunsheng/defects-class-and-location\")\n",
        "\n",
        "label_files = glob(os.path.join(dataset_path, '**/*.xml'), recursive=True)\n",
        "image_files = glob(os.path.join(dataset_path, '**/images/*/*.jpg'), recursive=True)  # Adjusted pattern\n",
        "label_files[:5], image_files[:5]"
      ]
    },
    {
      "cell_type": "code",
      "source": [
        "# from PIL import Image\n",
        "# im = Image.open('/root/.cache/kagglehub/datasets/zhangyunsheng/defects-class-and-location/versions/1/images/images/waist folding/img_08_425501100_00051.jpg')\n",
        "# print(im.size)"
      ],
      "metadata": {
        "colab": {
          "base_uri": "https://localhost:8080/"
        },
        "id": "1aNMVEW-lOuY",
        "outputId": "341f333f-7271-4f03-fd4b-4f4033f5886a"
      },
      "execution_count": null,
      "outputs": [
        {
          "output_type": "stream",
          "name": "stdout",
          "text": [
            "(2048, 1000)\n"
          ]
        }
      ]
    },
    {
      "cell_type": "code",
      "execution_count": null,
      "metadata": {
        "colab": {
          "base_uri": "https://localhost:8080/"
        },
        "id": "CqE8mQ08E7fG",
        "outputId": "bc77282a-bc4e-4032-efae-954cba53356e"
      },
      "outputs": [
        {
          "output_type": "stream",
          "name": "stdout",
          "text": [
            "Mounted at /content/drive\n"
          ]
        }
      ],
      "source": [
        "from google.colab import drive\n",
        "drive.mount('/content/drive')"
      ]
    },
    {
      "cell_type": "code",
      "source": [
        "#!rm -rf /content/datanew1"
      ],
      "metadata": {
        "id": "i8ZWVZhuHjap"
      },
      "execution_count": null,
      "outputs": []
    },
    {
      "cell_type": "code",
      "source": [
        "class_map = {\n",
        "    'crease': 0, 'crescent_gap': 1, 'inclusion': 2,\n",
        "    'oil_spot': 3, 'punching_hole': 4, 'rolled_pit': 5,\n",
        "    'silk_spot': 6, 'waist_folding': 7, 'water_spot': 8,\n",
        "    'welding_line': 9\n",
        "}\n",
        "\n"
      ],
      "metadata": {
        "id": "Uc7C2Y58OoAD"
      },
      "execution_count": null,
      "outputs": []
    },
    {
      "cell_type": "code",
      "execution_count": null,
      "metadata": {
        "colab": {
          "base_uri": "https://localhost:8080/",
          "height": 106
        },
        "id": "Asj46_BXo_2a",
        "outputId": "d9d03a08-c9fe-42f5-b64f-207ef383b139",
        "collapsed": true
      },
      "outputs": [
        {
          "output_type": "error",
          "ename": "IndentationError",
          "evalue": "unexpected indent (<ipython-input-6-1675825243>, line 6)",
          "traceback": [
            "\u001b[0;36m  File \u001b[0;32m\"<ipython-input-6-1675825243>\"\u001b[0;36m, line \u001b[0;32m6\u001b[0m\n\u001b[0;31m    if filename.endswith('.txt'):\u001b[0m\n\u001b[0m    ^\u001b[0m\n\u001b[0;31mIndentationError\u001b[0m\u001b[0;31m:\u001b[0m unexpected indent\n"
          ]
        }
      ],
      "source": [
        "# import os\n",
        "\n",
        "# label_folder = '/content/drive/MyDrive/ims'\n",
        "\n",
        "# for filename in os.listdir(label_folder):\n",
        "#     if filename.endswith('.txt'):\n",
        "#         file_path = os.path.join(label_folder, filename)\n",
        "#         with open(file_path, 'r') as f:\n",
        "#             lines = f.readlines()\n",
        "#         new_lines = []\n",
        "#         for line in lines:\n",
        "#             parts = line.strip().split()\n",
        "#             if parts:\n",
        "#                 class_name = parts[0]\n",
        "#                 if class_name in class_map:\n",
        "#                     parts[0] = str(class_map[class_name])\n",
        "#                 new_lines.append(' '.join(parts))\n",
        "#         with open(file_path, 'w') as f:\n",
        "#             f.write('\\n'.join(new_lines))\n",
        "# print('Conversion complete.')"
      ]
    },
    {
      "cell_type": "code",
      "source": [
        "# import os\n",
        "\n",
        "# label_folder = '/content/drive/MyDrive/ims'\n",
        "\n",
        "# for filename in os.listdir(label_folder):\n",
        "#     if filename.endswith('.txt'):\n",
        "#         file_path = os.path.join(label_folder, filename)\n",
        "#         with open(file_path, 'r') as f:\n",
        "#             lines = f.readlines()\n",
        "#         new_lines = []\n",
        "#         found_folding = False\n",
        "#         for line in lines:\n",
        "#             parts = line.strip().split()\n",
        "#             if 'folding' in parts:\n",
        "#                 found_folding = True\n",
        "#                 parts = [p for p in parts if p != 'folding']\n",
        "#             new_lines.append(' '.join(parts))\n",
        "#         if found_folding:\n",
        "#             with open(file_path, 'w') as f:\n",
        "#                 f.write('\\n'.join(new_lines))\n",
        "#             print(f\"Updated: {filename}\")"
      ],
      "metadata": {
        "colab": {
          "base_uri": "https://localhost:8080/"
        },
        "id": "o8gK_rioNxUD",
        "outputId": "3ec13ca8-1ffd-4418-dee0-aa10be0a48c9",
        "collapsed": true
      },
      "execution_count": null,
      "outputs": [
        {
          "output_type": "stream",
          "name": "stdout",
          "text": [
            "Updated: img_02_3402618000_00002.txt\n",
            "Updated: img_02_3402618000_00010.txt\n",
            "Updated: img_02_3402618000_00007.txt\n",
            "Updated: img_02_4404612700_00054.txt\n",
            "Updated: img_03_3402618000_00007.txt\n",
            "Updated: img_03_3402618000_00013.txt\n",
            "Updated: img_03_425613800_00022.txt\n",
            "Updated: img_03_425613800_00026.txt\n",
            "Updated: img_03_4404612700_00049.txt\n",
            "Updated: img_03_4404374100_01295.txt\n",
            "Updated: img_03_4404374300_00045.txt\n",
            "Updated: img_05_436164700_01553.txt\n",
            "Updated: img_05_4402719200_00029.txt\n",
            "Updated: img_06_424826800_00494.txt\n",
            "Updated: img_06_3436814000_00693.txt\n",
            "Updated: img_06_3437011100_01183.txt\n",
            "Updated: img_06_3436814600_00007.txt\n",
            "Updated: img_06_3436814000_00686.txt\n",
            "Updated: img_06_3436814000_00011.txt\n",
            "Updated: img_06_3436814000_00008.txt\n",
            "Updated: img_06_3436814000_00009.txt\n",
            "Updated: img_06_3436814000_00675.txt\n",
            "Updated: img_06_3436814000_00691.txt\n",
            "Updated: img_06_3436814000_00679.txt\n",
            "Updated: img_06_3436814000_00688.txt\n",
            "Updated: img_06_3436814000_00681.txt\n",
            "Updated: img_06_3436814000_00016.txt\n",
            "Updated: img_06_3436814000_00006.txt\n",
            "Updated: img_06_3436786500_00565.txt\n",
            "Updated: img_06_3436639700_00760.txt\n",
            "Updated: img_06_3436639700_00756.txt\n",
            "Updated: img_06_3436786500_00002.txt\n",
            "Updated: img_06_3436814000_00007.txt\n",
            "Updated: img_06_3436814000_00683.txt\n",
            "Updated: img_06_3436814000_00005.txt\n",
            "Updated: img_06_424826800_00502.txt\n",
            "Updated: img_06_424826800_00501.txt\n",
            "Updated: img_06_424826800_00505.txt\n",
            "Updated: img_06_424826800_00497.txt\n",
            "Updated: img_06_424826800_00488.txt\n",
            "Updated: img_06_424826800_00490.txt\n",
            "Updated: img_06_424826800_00492.txt\n",
            "Updated: img_06_424826800_00499.txt\n",
            "Updated: img_06_424826800_00493.txt\n",
            "Updated: img_06_424826800_00500.txt\n",
            "Updated: img_06_425614600_00426.txt\n",
            "Updated: img_06_425614600_00425.txt\n",
            "Updated: img_06_425614600_00421.txt\n",
            "Updated: img_06_425614600_00419.txt\n",
            "Updated: img_06_425614600_00415.txt\n",
            "Updated: img_06_425614600_00410.txt\n",
            "Updated: img_06_425614600_00406.txt\n",
            "Updated: img_06_425614600_00414.txt\n",
            "Updated: img_06_425614600_00422.txt\n",
            "Updated: img_06_425614600_00423.txt\n",
            "Updated: img_06_425614600_00420.txt\n",
            "Updated: img_06_425614600_00424.txt\n",
            "Updated: img_06_425614600_00413.txt\n",
            "Updated: img_06_425614600_00412.txt\n",
            "Updated: img_06_425614600_00411.txt\n",
            "Updated: img_06_436185800_00731.txt\n",
            "Updated: img_06_436185800_00727.txt\n",
            "Updated: img_06_436164300_00004.txt\n",
            "Updated: img_06_436164700_01556.txt\n",
            "Updated: img_06_436164700_01537.txt\n",
            "Updated: img_06_436164300_00003.txt\n",
            "Updated: img_06_436185800_00723.txt\n",
            "Updated: img_06_425614600_00435.txt\n",
            "Updated: img_06_425614600_00431.txt\n",
            "Updated: img_06_425614600_00432.txt\n",
            "Updated: img_06_4404374100_01337.txt\n",
            "Updated: img_06_4404374100_01350.txt\n",
            "Updated: img_06_4404374100_01306.txt\n",
            "Updated: img_06_4405133600_00034.txt\n",
            "Updated: img_06_4405377100_00032.txt\n",
            "Updated: img_06_4405133600_00035.txt\n",
            "Updated: img_06_4405133600_00921.txt\n",
            "Updated: img_06_4402719100_00020.txt\n",
            "Updated: img_06_436185800_00735.txt\n",
            "Updated: img_06_4402830700_01162.txt\n",
            "Updated: img_06_4402719200_00017.txt\n",
            "Updated: img_07_3436814000_00692.txt\n",
            "Updated: img_07_3436814000_00691.txt\n",
            "Updated: img_07_3436814000_00010.txt\n",
            "Updated: img_07_3436814000_00676.txt\n",
            "Updated: img_07_3436814000_00009.txt\n",
            "Updated: img_07_3436814000_00680.txt\n",
            "Updated: img_07_3436814000_00011.txt\n",
            "Updated: img_07_3436814000_00679.txt\n",
            "Updated: img_07_3436814000_00016.txt\n",
            "Updated: img_07_3436814000_00684.txt\n",
            "Updated: img_07_3436814000_00007.txt\n",
            "Updated: img_07_3436785900_00004.txt\n",
            "Updated: img_07_3436814000_00005.txt\n",
            "Updated: img_07_3436786500_00002.txt\n",
            "Updated: img_07_3436814000_00006.txt\n",
            "Updated: img_07_3436814000_00694.txt\n",
            "Updated: img_07_424826800_00507.txt\n",
            "Updated: img_07_424826800_00502.txt\n",
            "Updated: img_07_3436814000_00693.txt\n",
            "Updated: img_07_3437006500_00761.txt\n",
            "Updated: img_07_424826800_00488.txt\n",
            "Updated: img_07_424826800_00492.txt\n",
            "Updated: img_07_424826800_00493.txt\n",
            "Updated: img_07_424826800_00494.txt\n",
            "Updated: img_07_424826800_00497.txt\n",
            "Updated: img_07_3437011100_01183.txt\n",
            "Updated: img_07_436164700_01551.txt\n",
            "Updated: img_07_436164700_01537.txt\n",
            "Updated: img_07_436164700_01536.txt\n",
            "Updated: img_07_436164700_01545.txt\n",
            "Updated: img_07_436164700_01538.txt\n",
            "Updated: img_07_436164700_01552.txt\n",
            "Updated: img_07_427199900_00008.txt\n",
            "Updated: img_07_4405376800_00039.txt\n",
            "Updated: img_07_4405376800_00042.txt\n",
            "Updated: img_07_4405376800_00038.txt\n",
            "Updated: img_07_4405133600_00046.txt\n",
            "Updated: img_07_4405133600_00042.txt\n",
            "Updated: img_07_4405133600_00044.txt\n",
            "Updated: img_07_4405376800_00037.txt\n",
            "Updated: img_07_4405133600_00039.txt\n",
            "Updated: img_07_4405133600_00034.txt\n",
            "Updated: img_07_4404712100_01000.txt\n",
            "Updated: img_07_4404374100_01348.txt\n",
            "Updated: img_07_4404374100_01367.txt\n",
            "Updated: img_07_4405133600_00036.txt\n",
            "Updated: img_07_4404374100_01279.txt\n",
            "Updated: img_07_4404374100_01338.txt\n",
            "Updated: img_07_4404374100_01349.txt\n",
            "Updated: img_07_4404374100_01315.txt\n",
            "Updated: img_07_4405133600_00033.txt\n",
            "Updated: img_07_4404374100_01321.txt\n",
            "Updated: img_07_4402719100_00025.txt\n",
            "Updated: img_07_4402719100_00014.txt\n",
            "Updated: img_07_4402719100_00026.txt\n",
            "Updated: img_07_4404374100_01265.txt\n",
            "Updated: img_07_4402719500_00001.txt\n",
            "Updated: img_07_4402719200_00026.txt\n",
            "Updated: img_07_SIS002353_00788.txt\n",
            "Updated: img_07_4406645900_00897.txt\n",
            "Updated: img_08_425501100_00051.txt\n",
            "Updated: img_08_436164700_01537.txt\n",
            "Updated: img_08_4402719200_00026.txt\n"
          ]
        }
      ]
    },
    {
      "cell_type": "code",
      "execution_count": null,
      "metadata": {
        "id": "RcoVf-Tg93RZ"
      },
      "outputs": [],
      "source": [
        "import os\n",
        "import shutil\n",
        "import random\n",
        "from pathlib import Path\n",
        "\n",
        "# Set your  directories\n",
        "images_dir = Path('/root/.cache/kagglehub/datasets/zhangyunsheng/defects-class-and-location/versions/1/images/images')\n",
        "labels_dir = Path('/content/drive/MyDrive/ims')\n",
        "\n",
        "# Set output directories\n",
        "output_dir = Path('datanew1')\n",
        "train_dir = output_dir / 'train'\n",
        "val_dir = output_dir / 'val'\n",
        "\n",
        "# Split ratio\n",
        "split_ratio = 0.6\n",
        "\n",
        "# Gather label files\n",
        "label_files = sorted([f for f in labels_dir.iterdir() if f.is_file()])\n",
        "\n",
        "# Shuffle and split\n",
        "random.shuffle(label_files)\n",
        "split_idx = int(len(label_files) * split_ratio)\n",
        "train_labels = label_files[:split_idx]\n",
        "val_labels = label_files[split_idx:]\n",
        "\n",
        "def copy_data(label_list, split_folder):\n",
        "    (split_folder / 'labels').mkdir(parents=True, exist_ok=True)\n",
        "    (split_folder / 'images').mkdir(parents=True, exist_ok=True)\n",
        "    for label_path in label_list:\n",
        "        shutil.copy(label_path, split_folder / 'labels' / label_path.name)\n",
        "        base_name = label_path.stem\n",
        "        found = False\n",
        "        for class_folder in images_dir.iterdir():\n",
        "            if class_folder.is_dir():\n",
        "                image_path = class_folder / f\"{base_name}.jpg\"\n",
        "                if image_path.exists():\n",
        "                    shutil.copy(image_path, split_folder / 'images' / image_path.name)\n",
        "                    found = True\n",
        "                    break\n",
        "        if not found:\n",
        "            print(f\"Image for label {label_path.name} not found.\")\n",
        "\n",
        "copy_data(train_labels, train_dir)\n",
        "copy_data(val_labels, val_dir)\n"
      ]
    },
    {
      "cell_type": "code",
      "execution_count": null,
      "metadata": {
        "colab": {
          "base_uri": "https://localhost:8080/"
        },
        "id": "p5OeRjptgzbB",
        "outputId": "6fb5f6e6-60b3-43f1-994c-1a38a0c0b9ad"
      },
      "outputs": [
        {
          "output_type": "stream",
          "name": "stdout",
          "text": [
            "data.yaml created at datanew1.yaml\n"
          ]
        }
      ],
      "source": [
        "def create_data_yaml(train_dir, val_dir, class_map, save_path='data.yaml'):\n",
        "    \"\"\"Creates a data.yaml file for YOLO training.\"\"\"\n",
        "    data = {\n",
        "        'train': train_dir,\n",
        "        'val': val_dir,\n",
        "        'nc': len(class_map),\n",
        "        'names': list(class_map.keys())\n",
        "    }\n",
        "    with open(save_path, 'w') as f:\n",
        "        yaml.dump(data, f)\n",
        "    print(f\"data.yaml created at {save_path}\")\n",
        "\n",
        "\n",
        "\n",
        "create_data_yaml(\n",
        "    train_dir='/content/datanew1/train',\n",
        "    val_dir='/content/datanew1/val',\n",
        "    class_map=class_map,\n",
        "    save_path='datanew1.yaml'\n",
        ")"
      ]
    },
    {
      "cell_type": "code",
      "execution_count": null,
      "metadata": {
        "colab": {
          "base_uri": "https://localhost:8080/"
        },
        "id": "dNFkj0APp7Za",
        "outputId": "6214e05e-227b-4826-b8aa-e4cbe0ccef88"
      },
      "outputs": [
        {
          "output_type": "stream",
          "name": "stdout",
          "text": [
            "Collecting ultralytics\n",
            "  Downloading ultralytics-8.3.155-py3-none-any.whl.metadata (37 kB)\n",
            "Requirement already satisfied: numpy>=1.23.0 in /usr/local/lib/python3.11/dist-packages (from ultralytics) (2.0.2)\n",
            "Requirement already satisfied: matplotlib>=3.3.0 in /usr/local/lib/python3.11/dist-packages (from ultralytics) (3.10.0)\n",
            "Requirement already satisfied: opencv-python>=4.6.0 in /usr/local/lib/python3.11/dist-packages (from ultralytics) (4.11.0.86)\n",
            "Requirement already satisfied: pillow>=7.1.2 in /usr/local/lib/python3.11/dist-packages (from ultralytics) (11.2.1)\n",
            "Requirement already satisfied: pyyaml>=5.3.1 in /usr/local/lib/python3.11/dist-packages (from ultralytics) (6.0.2)\n",
            "Requirement already satisfied: requests>=2.23.0 in /usr/local/lib/python3.11/dist-packages (from ultralytics) (2.32.3)\n",
            "Requirement already satisfied: scipy>=1.4.1 in /usr/local/lib/python3.11/dist-packages (from ultralytics) (1.15.3)\n",
            "Requirement already satisfied: torch>=1.8.0 in /usr/local/lib/python3.11/dist-packages (from ultralytics) (2.6.0+cu124)\n",
            "Requirement already satisfied: torchvision>=0.9.0 in /usr/local/lib/python3.11/dist-packages (from ultralytics) (0.21.0+cu124)\n",
            "Requirement already satisfied: tqdm>=4.64.0 in /usr/local/lib/python3.11/dist-packages (from ultralytics) (4.67.1)\n",
            "Requirement already satisfied: psutil in /usr/local/lib/python3.11/dist-packages (from ultralytics) (5.9.5)\n",
            "Requirement already satisfied: py-cpuinfo in /usr/local/lib/python3.11/dist-packages (from ultralytics) (9.0.0)\n",
            "Requirement already satisfied: pandas>=1.1.4 in /usr/local/lib/python3.11/dist-packages (from ultralytics) (2.2.2)\n",
            "Collecting ultralytics-thop>=2.0.0 (from ultralytics)\n",
            "  Downloading ultralytics_thop-2.0.14-py3-none-any.whl.metadata (9.4 kB)\n",
            "Requirement already satisfied: contourpy>=1.0.1 in /usr/local/lib/python3.11/dist-packages (from matplotlib>=3.3.0->ultralytics) (1.3.2)\n",
            "Requirement already satisfied: cycler>=0.10 in /usr/local/lib/python3.11/dist-packages (from matplotlib>=3.3.0->ultralytics) (0.12.1)\n",
            "Requirement already satisfied: fonttools>=4.22.0 in /usr/local/lib/python3.11/dist-packages (from matplotlib>=3.3.0->ultralytics) (4.58.2)\n",
            "Requirement already satisfied: kiwisolver>=1.3.1 in /usr/local/lib/python3.11/dist-packages (from matplotlib>=3.3.0->ultralytics) (1.4.8)\n",
            "Requirement already satisfied: packaging>=20.0 in /usr/local/lib/python3.11/dist-packages (from matplotlib>=3.3.0->ultralytics) (24.2)\n",
            "Requirement already satisfied: pyparsing>=2.3.1 in /usr/local/lib/python3.11/dist-packages (from matplotlib>=3.3.0->ultralytics) (3.2.3)\n",
            "Requirement already satisfied: python-dateutil>=2.7 in /usr/local/lib/python3.11/dist-packages (from matplotlib>=3.3.0->ultralytics) (2.9.0.post0)\n",
            "Requirement already satisfied: pytz>=2020.1 in /usr/local/lib/python3.11/dist-packages (from pandas>=1.1.4->ultralytics) (2025.2)\n",
            "Requirement already satisfied: tzdata>=2022.7 in /usr/local/lib/python3.11/dist-packages (from pandas>=1.1.4->ultralytics) (2025.2)\n",
            "Requirement already satisfied: charset-normalizer<4,>=2 in /usr/local/lib/python3.11/dist-packages (from requests>=2.23.0->ultralytics) (3.4.2)\n",
            "Requirement already satisfied: idna<4,>=2.5 in /usr/local/lib/python3.11/dist-packages (from requests>=2.23.0->ultralytics) (3.10)\n",
            "Requirement already satisfied: urllib3<3,>=1.21.1 in /usr/local/lib/python3.11/dist-packages (from requests>=2.23.0->ultralytics) (2.4.0)\n",
            "Requirement already satisfied: certifi>=2017.4.17 in /usr/local/lib/python3.11/dist-packages (from requests>=2.23.0->ultralytics) (2025.4.26)\n",
            "Requirement already satisfied: filelock in /usr/local/lib/python3.11/dist-packages (from torch>=1.8.0->ultralytics) (3.18.0)\n",
            "Requirement already satisfied: typing-extensions>=4.10.0 in /usr/local/lib/python3.11/dist-packages (from torch>=1.8.0->ultralytics) (4.14.0)\n",
            "Requirement already satisfied: networkx in /usr/local/lib/python3.11/dist-packages (from torch>=1.8.0->ultralytics) (3.5)\n",
            "Requirement already satisfied: jinja2 in /usr/local/lib/python3.11/dist-packages (from torch>=1.8.0->ultralytics) (3.1.6)\n",
            "Requirement already satisfied: fsspec in /usr/local/lib/python3.11/dist-packages (from torch>=1.8.0->ultralytics) (2025.3.2)\n",
            "Collecting nvidia-cuda-nvrtc-cu12==12.4.127 (from torch>=1.8.0->ultralytics)\n",
            "  Downloading nvidia_cuda_nvrtc_cu12-12.4.127-py3-none-manylinux2014_x86_64.whl.metadata (1.5 kB)\n",
            "Collecting nvidia-cuda-runtime-cu12==12.4.127 (from torch>=1.8.0->ultralytics)\n",
            "  Downloading nvidia_cuda_runtime_cu12-12.4.127-py3-none-manylinux2014_x86_64.whl.metadata (1.5 kB)\n",
            "Collecting nvidia-cuda-cupti-cu12==12.4.127 (from torch>=1.8.0->ultralytics)\n",
            "  Downloading nvidia_cuda_cupti_cu12-12.4.127-py3-none-manylinux2014_x86_64.whl.metadata (1.6 kB)\n",
            "Collecting nvidia-cudnn-cu12==9.1.0.70 (from torch>=1.8.0->ultralytics)\n",
            "  Downloading nvidia_cudnn_cu12-9.1.0.70-py3-none-manylinux2014_x86_64.whl.metadata (1.6 kB)\n",
            "Collecting nvidia-cublas-cu12==12.4.5.8 (from torch>=1.8.0->ultralytics)\n",
            "  Downloading nvidia_cublas_cu12-12.4.5.8-py3-none-manylinux2014_x86_64.whl.metadata (1.5 kB)\n",
            "Collecting nvidia-cufft-cu12==11.2.1.3 (from torch>=1.8.0->ultralytics)\n",
            "  Downloading nvidia_cufft_cu12-11.2.1.3-py3-none-manylinux2014_x86_64.whl.metadata (1.5 kB)\n",
            "Collecting nvidia-curand-cu12==10.3.5.147 (from torch>=1.8.0->ultralytics)\n",
            "  Downloading nvidia_curand_cu12-10.3.5.147-py3-none-manylinux2014_x86_64.whl.metadata (1.5 kB)\n",
            "Collecting nvidia-cusolver-cu12==11.6.1.9 (from torch>=1.8.0->ultralytics)\n",
            "  Downloading nvidia_cusolver_cu12-11.6.1.9-py3-none-manylinux2014_x86_64.whl.metadata (1.6 kB)\n",
            "Collecting nvidia-cusparse-cu12==12.3.1.170 (from torch>=1.8.0->ultralytics)\n",
            "  Downloading nvidia_cusparse_cu12-12.3.1.170-py3-none-manylinux2014_x86_64.whl.metadata (1.6 kB)\n",
            "Requirement already satisfied: nvidia-cusparselt-cu12==0.6.2 in /usr/local/lib/python3.11/dist-packages (from torch>=1.8.0->ultralytics) (0.6.2)\n",
            "Requirement already satisfied: nvidia-nccl-cu12==2.21.5 in /usr/local/lib/python3.11/dist-packages (from torch>=1.8.0->ultralytics) (2.21.5)\n",
            "Requirement already satisfied: nvidia-nvtx-cu12==12.4.127 in /usr/local/lib/python3.11/dist-packages (from torch>=1.8.0->ultralytics) (12.4.127)\n",
            "Collecting nvidia-nvjitlink-cu12==12.4.127 (from torch>=1.8.0->ultralytics)\n",
            "  Downloading nvidia_nvjitlink_cu12-12.4.127-py3-none-manylinux2014_x86_64.whl.metadata (1.5 kB)\n",
            "Requirement already satisfied: triton==3.2.0 in /usr/local/lib/python3.11/dist-packages (from torch>=1.8.0->ultralytics) (3.2.0)\n",
            "Requirement already satisfied: sympy==1.13.1 in /usr/local/lib/python3.11/dist-packages (from torch>=1.8.0->ultralytics) (1.13.1)\n",
            "Requirement already satisfied: mpmath<1.4,>=1.1.0 in /usr/local/lib/python3.11/dist-packages (from sympy==1.13.1->torch>=1.8.0->ultralytics) (1.3.0)\n",
            "Requirement already satisfied: six>=1.5 in /usr/local/lib/python3.11/dist-packages (from python-dateutil>=2.7->matplotlib>=3.3.0->ultralytics) (1.17.0)\n",
            "Requirement already satisfied: MarkupSafe>=2.0 in /usr/local/lib/python3.11/dist-packages (from jinja2->torch>=1.8.0->ultralytics) (3.0.2)\n",
            "Downloading ultralytics-8.3.155-py3-none-any.whl (1.0 MB)\n",
            "\u001b[2K   \u001b[90m━━━━━━━━━━━━━━━━━━━━━━━━━━━━━━━━━━━━━━━━\u001b[0m \u001b[32m1.0/1.0 MB\u001b[0m \u001b[31m17.2 MB/s\u001b[0m eta \u001b[36m0:00:00\u001b[0m\n",
            "\u001b[?25hDownloading nvidia_cublas_cu12-12.4.5.8-py3-none-manylinux2014_x86_64.whl (363.4 MB)\n",
            "\u001b[2K   \u001b[90m━━━━━━━━━━━━━━━━━━━━━━━━━━━━━━━━━━━━━━━━\u001b[0m \u001b[32m363.4/363.4 MB\u001b[0m \u001b[31m3.3 MB/s\u001b[0m eta \u001b[36m0:00:00\u001b[0m\n",
            "\u001b[?25hDownloading nvidia_cuda_cupti_cu12-12.4.127-py3-none-manylinux2014_x86_64.whl (13.8 MB)\n",
            "\u001b[2K   \u001b[90m━━━━━━━━━━━━━━━━━━━━━━━━━━━━━━━━━━━━━━━━\u001b[0m \u001b[32m13.8/13.8 MB\u001b[0m \u001b[31m119.2 MB/s\u001b[0m eta \u001b[36m0:00:00\u001b[0m\n",
            "\u001b[?25hDownloading nvidia_cuda_nvrtc_cu12-12.4.127-py3-none-manylinux2014_x86_64.whl (24.6 MB)\n",
            "\u001b[2K   \u001b[90m━━━━━━━━━━━━━━━━━━━━━━━━━━━━━━━━━━━━━━━━\u001b[0m \u001b[32m24.6/24.6 MB\u001b[0m \u001b[31m91.1 MB/s\u001b[0m eta \u001b[36m0:00:00\u001b[0m\n",
            "\u001b[?25hDownloading nvidia_cuda_runtime_cu12-12.4.127-py3-none-manylinux2014_x86_64.whl (883 kB)\n",
            "\u001b[2K   \u001b[90m━━━━━━━━━━━━━━━━━━━━━━━━━━━━━━━━━━━━━━━━\u001b[0m \u001b[32m883.7/883.7 kB\u001b[0m \u001b[31m58.6 MB/s\u001b[0m eta \u001b[36m0:00:00\u001b[0m\n",
            "\u001b[?25hDownloading nvidia_cudnn_cu12-9.1.0.70-py3-none-manylinux2014_x86_64.whl (664.8 MB)\n",
            "\u001b[2K   \u001b[90m━━━━━━━━━━━━━━━━━━━━━━━━━━━━━━━━━━━━━━━\u001b[0m \u001b[32m664.8/664.8 MB\u001b[0m \u001b[31m856.7 kB/s\u001b[0m eta \u001b[36m0:00:00\u001b[0m\n",
            "\u001b[?25hDownloading nvidia_cufft_cu12-11.2.1.3-py3-none-manylinux2014_x86_64.whl (211.5 MB)\n",
            "\u001b[2K   \u001b[90m━━━━━━━━━━━━━━━━━━━━━━━━━━━━━━━━━━━━━━━━\u001b[0m \u001b[32m211.5/211.5 MB\u001b[0m \u001b[31m6.1 MB/s\u001b[0m eta \u001b[36m0:00:00\u001b[0m\n",
            "\u001b[?25hDownloading nvidia_curand_cu12-10.3.5.147-py3-none-manylinux2014_x86_64.whl (56.3 MB)\n",
            "\u001b[2K   \u001b[90m━━━━━━━━━━━━━━━━━━━━━━━━━━━━━━━━━━━━━━━━\u001b[0m \u001b[32m56.3/56.3 MB\u001b[0m \u001b[31m13.7 MB/s\u001b[0m eta \u001b[36m0:00:00\u001b[0m\n",
            "\u001b[?25hDownloading nvidia_cusolver_cu12-11.6.1.9-py3-none-manylinux2014_x86_64.whl (127.9 MB)\n",
            "\u001b[2K   \u001b[90m━━━━━━━━━━━━━━━━━━━━━━━━━━━━━━━━━━━━━━━━\u001b[0m \u001b[32m127.9/127.9 MB\u001b[0m \u001b[31m7.7 MB/s\u001b[0m eta \u001b[36m0:00:00\u001b[0m\n",
            "\u001b[?25hDownloading nvidia_cusparse_cu12-12.3.1.170-py3-none-manylinux2014_x86_64.whl (207.5 MB)\n",
            "\u001b[2K   \u001b[90m━━━━━━━━━━━━━━━━━━━━━━━━━━━━━━━━━━━━━━━━\u001b[0m \u001b[32m207.5/207.5 MB\u001b[0m \u001b[31m6.3 MB/s\u001b[0m eta \u001b[36m0:00:00\u001b[0m\n",
            "\u001b[?25hDownloading nvidia_nvjitlink_cu12-12.4.127-py3-none-manylinux2014_x86_64.whl (21.1 MB)\n",
            "\u001b[2K   \u001b[90m━━━━━━━━━━━━━━━━━━━━━━━━━━━━━━━━━━━━━━━━\u001b[0m \u001b[32m21.1/21.1 MB\u001b[0m \u001b[31m106.5 MB/s\u001b[0m eta \u001b[36m0:00:00\u001b[0m\n",
            "\u001b[?25hDownloading ultralytics_thop-2.0.14-py3-none-any.whl (26 kB)\n",
            "Installing collected packages: nvidia-nvjitlink-cu12, nvidia-curand-cu12, nvidia-cufft-cu12, nvidia-cuda-runtime-cu12, nvidia-cuda-nvrtc-cu12, nvidia-cuda-cupti-cu12, nvidia-cublas-cu12, nvidia-cusparse-cu12, nvidia-cudnn-cu12, nvidia-cusolver-cu12, ultralytics-thop, ultralytics\n",
            "  Attempting uninstall: nvidia-nvjitlink-cu12\n",
            "    Found existing installation: nvidia-nvjitlink-cu12 12.5.82\n",
            "    Uninstalling nvidia-nvjitlink-cu12-12.5.82:\n",
            "      Successfully uninstalled nvidia-nvjitlink-cu12-12.5.82\n",
            "  Attempting uninstall: nvidia-curand-cu12\n",
            "    Found existing installation: nvidia-curand-cu12 10.3.6.82\n",
            "    Uninstalling nvidia-curand-cu12-10.3.6.82:\n",
            "      Successfully uninstalled nvidia-curand-cu12-10.3.6.82\n",
            "  Attempting uninstall: nvidia-cufft-cu12\n",
            "    Found existing installation: nvidia-cufft-cu12 11.2.3.61\n",
            "    Uninstalling nvidia-cufft-cu12-11.2.3.61:\n",
            "      Successfully uninstalled nvidia-cufft-cu12-11.2.3.61\n",
            "  Attempting uninstall: nvidia-cuda-runtime-cu12\n",
            "    Found existing installation: nvidia-cuda-runtime-cu12 12.5.82\n",
            "    Uninstalling nvidia-cuda-runtime-cu12-12.5.82:\n",
            "      Successfully uninstalled nvidia-cuda-runtime-cu12-12.5.82\n",
            "  Attempting uninstall: nvidia-cuda-nvrtc-cu12\n",
            "    Found existing installation: nvidia-cuda-nvrtc-cu12 12.5.82\n",
            "    Uninstalling nvidia-cuda-nvrtc-cu12-12.5.82:\n",
            "      Successfully uninstalled nvidia-cuda-nvrtc-cu12-12.5.82\n",
            "  Attempting uninstall: nvidia-cuda-cupti-cu12\n",
            "    Found existing installation: nvidia-cuda-cupti-cu12 12.5.82\n",
            "    Uninstalling nvidia-cuda-cupti-cu12-12.5.82:\n",
            "      Successfully uninstalled nvidia-cuda-cupti-cu12-12.5.82\n",
            "  Attempting uninstall: nvidia-cublas-cu12\n",
            "    Found existing installation: nvidia-cublas-cu12 12.5.3.2\n",
            "    Uninstalling nvidia-cublas-cu12-12.5.3.2:\n",
            "      Successfully uninstalled nvidia-cublas-cu12-12.5.3.2\n",
            "  Attempting uninstall: nvidia-cusparse-cu12\n",
            "    Found existing installation: nvidia-cusparse-cu12 12.5.1.3\n",
            "    Uninstalling nvidia-cusparse-cu12-12.5.1.3:\n",
            "      Successfully uninstalled nvidia-cusparse-cu12-12.5.1.3\n",
            "  Attempting uninstall: nvidia-cudnn-cu12\n",
            "    Found existing installation: nvidia-cudnn-cu12 9.3.0.75\n",
            "    Uninstalling nvidia-cudnn-cu12-9.3.0.75:\n",
            "      Successfully uninstalled nvidia-cudnn-cu12-9.3.0.75\n",
            "  Attempting uninstall: nvidia-cusolver-cu12\n",
            "    Found existing installation: nvidia-cusolver-cu12 11.6.3.83\n",
            "    Uninstalling nvidia-cusolver-cu12-11.6.3.83:\n",
            "      Successfully uninstalled nvidia-cusolver-cu12-11.6.3.83\n",
            "Successfully installed nvidia-cublas-cu12-12.4.5.8 nvidia-cuda-cupti-cu12-12.4.127 nvidia-cuda-nvrtc-cu12-12.4.127 nvidia-cuda-runtime-cu12-12.4.127 nvidia-cudnn-cu12-9.1.0.70 nvidia-cufft-cu12-11.2.1.3 nvidia-curand-cu12-10.3.5.147 nvidia-cusolver-cu12-11.6.1.9 nvidia-cusparse-cu12-12.3.1.170 nvidia-nvjitlink-cu12-12.4.127 ultralytics-8.3.155 ultralytics-thop-2.0.14\n",
            "Creating new Ultralytics Settings v0.0.6 file ✅ \n",
            "View Ultralytics Settings with 'yolo settings' or at '/root/.config/Ultralytics/settings.json'\n",
            "Update Settings with 'yolo settings key=value', i.e. 'yolo settings runs_dir=path/to/dir'. For help see https://docs.ultralytics.com/quickstart/#ultralytics-settings.\n"
          ]
        }
      ],
      "source": [
        "!pip install -U ultralytics\n",
        "from ultralytics import YOLO"
      ]
    },
    {
      "cell_type": "code",
      "execution_count": null,
      "metadata": {
        "id": "SrdHTN5Rgzdq",
        "colab": {
          "base_uri": "https://localhost:8080/"
        },
        "outputId": "23dc84af-f8a6-4001-f280-f4cfc1bf125a"
      },
      "outputs": [
        {
          "output_type": "stream",
          "name": "stdout",
          "text": [
            "/bin/bash: -c: line 1: syntax error near unexpected token `('\n",
            "/bin/bash: -c: line 1: `yolo detect train data=/content/datanew1.yaml model=yolo11s.pt epochs=10 imgsz=(2048,1000)'\n"
          ]
        }
      ],
      "source": [
        "!yolo detect train data=/content/datanew1.yaml model=yolo11s.pt epochs=10 imgsz=(2048,1000)"
      ]
    },
    {
      "cell_type": "code",
      "execution_count": null,
      "metadata": {
        "id": "9b55ixSsgzfe",
        "colab": {
          "base_uri": "https://localhost:8080/",
          "height": 158
        },
        "outputId": "13cc98db-c97f-4167-819b-8cf17f2ce5a5"
      },
      "outputs": [
        {
          "output_type": "error",
          "ename": "NameError",
          "evalue": "name 'YOLO' is not defined",
          "traceback": [
            "\u001b[0;31m---------------------------------------------------------------------------\u001b[0m",
            "\u001b[0;31mNameError\u001b[0m                                 Traceback (most recent call last)",
            "\u001b[0;32m<ipython-input-1-1849408866>\u001b[0m in \u001b[0;36m<cell line: 0>\u001b[0;34m()\u001b[0m\n\u001b[0;32m----> 1\u001b[0;31m \u001b[0mmodel\u001b[0m \u001b[0;34m=\u001b[0m \u001b[0mYOLO\u001b[0m\u001b[0;34m(\u001b[0m\u001b[0;34m'yolov8n.yaml'\u001b[0m\u001b[0;34m)\u001b[0m\u001b[0;34m\u001b[0m\u001b[0;34m\u001b[0m\u001b[0m\n\u001b[0m\u001b[1;32m      2\u001b[0m \u001b[0mmodel\u001b[0m\u001b[0;34m.\u001b[0m\u001b[0mtrain\u001b[0m\u001b[0;34m(\u001b[0m\u001b[0mdata\u001b[0m\u001b[0;34m=\u001b[0m\u001b[0;34m'datanew1.yaml'\u001b[0m\u001b[0;34m,\u001b[0m \u001b[0mepochs\u001b[0m\u001b[0;34m=\u001b[0m\u001b[0;36m10\u001b[0m\u001b[0;34m,\u001b[0m \u001b[0mimgsz\u001b[0m\u001b[0;34m=\u001b[0m\u001b[0;34m(\u001b[0m\u001b[0;36m2048\u001b[0m\u001b[0;34m,\u001b[0m \u001b[0;36m1000\u001b[0m\u001b[0;34m)\u001b[0m\u001b[0;34m,\u001b[0m \u001b[0mrect\u001b[0m\u001b[0;34m=\u001b[0m\u001b[0;32mTrue\u001b[0m\u001b[0;34m)\u001b[0m\u001b[0;34m\u001b[0m\u001b[0;34m\u001b[0m\u001b[0m\n",
            "\u001b[0;31mNameError\u001b[0m: name 'YOLO' is not defined"
          ]
        }
      ],
      "source": []
    },
    {
      "cell_type": "code",
      "execution_count": null,
      "metadata": {
        "id": "yO38sFnn93T6"
      },
      "outputs": [],
      "source": []
    },
    {
      "cell_type": "code",
      "execution_count": null,
      "metadata": {
        "id": "bpZ3FwpThlr6"
      },
      "outputs": [],
      "source": []
    }
  ],
  "metadata": {
    "colab": {
      "provenance": [],
      "include_colab_link": true
    },
    "kernelspec": {
      "display_name": "Python 3",
      "name": "python3"
    },
    "language_info": {
      "name": "python"
    }
  },
  "nbformat": 4,
  "nbformat_minor": 0
}